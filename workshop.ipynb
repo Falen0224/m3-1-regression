{
 "cells": [
  {
   "cell_type": "code",
   "execution_count": 1,
   "metadata": {},
   "outputs": [],
   "source": [
    "\"\"\"\n",
    "Tried doing this thing where I put all the imports in the beginning but seems it's harder to keep track after a while.\n",
    "Will go back to putting all the imports directly in the respective portions and double up as necessary.\n",
    "If possible, could you comment on whether there's a preference from employers or in jobs? \n",
    "\"\"\"\n",
    "\n",
    "import matplotlib.pyplot as plt \n",
    "import pandas as pd  \n",
    "import seaborn as sns \n",
    "import numpy as np"
   ]
  },
  {
   "cell_type": "markdown",
   "metadata": {},
   "source": [
    "# 1. Dot Product\n",
    "\n",
    "Write a function `matrix_multiply(A, B)` using for loops, `+` and `*` that takes in two matrices (can be list of lists, or 2d numpy array) and returns their dot product (matrix multiplication). It should work with column vectors ($k \\times 1$ dimensions) and row vectors ($1 \\times k$) normally.\n",
    "\n",
    "\n",
    "```import numpy as np\n",
    "\n",
    "A = [\n",
    "    [1,2,3],\n",
    "    [4,5,6]\n",
    "]\n",
    "\n",
    "B = [\n",
    "    [1,2,3],\n",
    "    [4,5,6],\n",
    "    [7,8,9]\n",
    "]\n",
    "\n",
    "matrix_multiply(A,B)\n",
    "\n",
    "RETURNS: \n",
    "[[30, 36, 42],\n",
    " [66, 81, 96]]\n",
    "\n",
    "---------example 2-------------\n",
    "# This is a row vector\n",
    "A = np.array([\n",
    "    [1,2,3]\n",
    "])\n",
    "\n",
    "# This is a column vector\n",
    "B = np.array([\n",
    "    [1],\n",
    "    [4],\n",
    "    [7]\n",
    "])\n",
    "\n",
    "matrix_multiply(A,B)\n",
    "\n",
    "RETURNS:\n",
    "[[30]]\n",
    "\n",
    "```\n",
    "\n",
    "Use `np.dot` to test your output"
   ]
  },
  {
   "cell_type": "code",
   "execution_count": 2,
   "metadata": {},
   "outputs": [
    {
     "name": "stdout",
     "output_type": "stream",
     "text": [
      "[[30, 36, 42], [66, 81, 96]]\n",
      "[[30]]\n"
     ]
    }
   ],
   "source": [
    "def matrix_multiply(A, B):\n",
    "    res = []\n",
    "    for i in range(0,len(A)):\n",
    "        temp=[]\n",
    "        for j in range(0,len(B[0])):\n",
    "            s = 0\n",
    "            for k in range(0,len(A[0])):\n",
    "                s += A[i][k]*B[k][j]\n",
    "            temp.append(s)\n",
    "        res.append(temp)\n",
    "\n",
    "    return res\n",
    "\n",
    "A = [[1,2,3], [4,5,6]]\n",
    "B = [[1,2,3], [4,5,6], [7,8,9]]\n",
    "\n",
    "a = np.array([ [1,2,3] ])\n",
    "b = np.array([ [1], [4], [7] ])\n",
    "\n",
    "print(matrix_multiply(A,B))\n",
    "print(matrix_multiply(a,b))"
   ]
  },
  {
   "cell_type": "markdown",
   "metadata": {},
   "source": [
    "# 2 Matrix Math torture\n",
    "\n",
    "**2.1** Give a 3 examples of non-invertible square matrices that are non-zero\n",
    "\n",
    "**2.2** Explain why the identity matrix $I$ is necessarily a square matrix with only $1$'s on the diagonal (hint: use the dot product from Q1)\n",
    "\n",
    "**2.3** The **trace** is commutative for two matrices so $tr(AB) = tr(BA)$. Give an example where this is false for 3 matrices which can all be multiplied together.\n",
    "\n",
    "**2.4** Give an example of a nonzero $4 \\times 4$ idempotent matrix (where $A \\cdot A = A^2 = A$)\n",
    "\n",
    "**2.5** solve the following system of equations for `x`, `y` and `z` using matrices and `numpy.linalg.solve`\n",
    "\n",
    "$x \t+ \ty \t+ \tz \t= \t6$\n",
    "\n",
    "$2y \t+ \t5z \t= \t−4$\n",
    "\n",
    "$2x \t+ \t5y \t− \tz \t= \t27$"
   ]
  },
  {
   "cell_type": "code",
   "execution_count": 3,
   "metadata": {},
   "outputs": [],
   "source": [
    "#2.1\n",
    "A = [[2, 3], [2, 3]]\n",
    "B = [[2, 3], [4, 6]]\n",
    "C = [[2, 3], [-8, -12]]"
   ]
  },
  {
   "cell_type": "code",
   "execution_count": 4,
   "metadata": {},
   "outputs": [
    {
     "name": "stdout",
     "output_type": "stream",
     "text": [
      "[[1.0, 2.0, 3.0], [4.0, 5.0, 6.0]]\n",
      "[[1, 2, 3, 0], [4, 5, 6, 0]]\n"
     ]
    },
    {
     "data": {
      "text/plain": [
       "'The identity matrix is a perfect square to allow for a dot product with any matrix to return the matrix as per above'"
      ]
     },
     "execution_count": 4,
     "metadata": {},
     "output_type": "execute_result"
    }
   ],
   "source": [
    "#2.2\n",
    "exp = [[1,2,3], [4,5,6]]\n",
    "idt = [[1,0,0,0],[0,1,0,0],[0,0,1,0]]\n",
    "\n",
    "print(matrix_multiply(exp, np.eye(3)))\n",
    "print(matrix_multiply(exp, idt))\n",
    "\"\"\"The identity matrix is a perfect square to allow for a dot product with any matrix to return the matrix as per above\"\"\""
   ]
  },
  {
   "cell_type": "code",
   "execution_count": 5,
   "metadata": {},
   "outputs": [
    {
     "name": "stdout",
     "output_type": "stream",
     "text": [
      "[[2 0 0]\n",
      " [0 4 0]\n",
      " [0 0 6]]\n",
      "[[2 3 5]\n",
      " [1 4 6]\n",
      " [7 8 6]]\n",
      "[[1 3 5]\n",
      " [2 6 6]\n",
      " [2 6 3]]\n",
      "\n",
      "The following have consistent trace:\n",
      "TR(CBA): 776\n",
      "TR(ACB): 776\n",
      "TR(BAC): 776\n",
      "\n",
      "The following results have different trace:\n",
      "TR(BCA): 894\n",
      "TR(CAB): 894\n",
      "TR(ABC): 894\n"
     ]
    }
   ],
   "source": [
    "#2.3\n",
    "A = np.array([[2,0,0], [0,4,0], [0,0,6]])\n",
    "B = np.array([[2,3,5], [1,4,6], [7,8,6]])\n",
    "C = np.array([[1,3,5], [2,6,6], [2,6,3]])\n",
    "print(A)\n",
    "print(B)\n",
    "print(C)\n",
    "print(\"\\nThe following have consistent trace:\")\n",
    "print(\"TR(CBA):\",np.trace(np.dot(C,B).dot(A)))\n",
    "print(\"TR(ACB):\",np.trace(np.dot(A,C).dot(B)))\n",
    "print(\"TR(BAC):\",np.trace(np.dot(B,A).dot(C)))\n",
    "print(\"\\nThe following results have different trace:\")\n",
    "print(\"TR(BCA):\",np.trace(np.dot(B,C).dot(A)))\n",
    "print(\"TR(CAB):\",np.trace(np.dot(C,A).dot(B)))\n",
    "print(\"TR(ABC):\",np.trace(np.dot(A,B).dot(C)))"
   ]
  },
  {
   "cell_type": "code",
   "execution_count": 6,
   "metadata": {},
   "outputs": [
    {
     "data": {
      "text/plain": [
       "array([[1., 0., 0., 0.],\n",
       "       [0., 1., 0., 0.],\n",
       "       [0., 0., 1., 0.],\n",
       "       [0., 0., 0., 1.]])"
      ]
     },
     "execution_count": 6,
     "metadata": {},
     "output_type": "execute_result"
    }
   ],
   "source": [
    "#2.4\n",
    "np.eye(4) ### non-zero but I think this is considered a cheat-y answer?"
   ]
  },
  {
   "cell_type": "code",
   "execution_count": 7,
   "metadata": {},
   "outputs": [
    {
     "data": {
      "text/plain": [
       "array([ 5.,  3., -2.])"
      ]
     },
     "execution_count": 7,
     "metadata": {},
     "output_type": "execute_result"
    }
   ],
   "source": [
    "#2.5\n",
    "quad = np.array([\n",
    "    [1,1,1],\n",
    "    [0,2,5],\n",
    "    [2,5,-1]\n",
    "])\n",
    "\n",
    "res = [6,-4,27]\n",
    "\n",
    "np.linalg.inv(quad).dot(res)"
   ]
  },
  {
   "cell_type": "markdown",
   "metadata": {},
   "source": [
    "# 3.1 Boston regression\n",
    "\n",
    "Using statsmodels and the `boston` dataset, make a regression model to predict house prices. Don't forget to add a constant (intercept) term. Note that statsmodels can take a `pd.DataFrame` as an input for `X`.\n",
    "\n",
    "Report the $R^2$ and coefficients on each feature"
   ]
  },
  {
   "cell_type": "code",
   "execution_count": 8,
   "metadata": {},
   "outputs": [],
   "source": [
    "from sklearn.datasets import load_boston\n",
    "df = pd.DataFrame(data=load_boston()['data'], columns=load_boston()['feature_names'])\n",
    "df['MEDV'] = load_boston()['target']"
   ]
  },
  {
   "cell_type": "code",
   "execution_count": 9,
   "metadata": {},
   "outputs": [
    {
     "data": {
      "text/html": [
       "<table class=\"simpletable\">\n",
       "<caption>OLS Regression Results</caption>\n",
       "<tr>\n",
       "  <th>Dep. Variable:</th>          <td>MEDV</td>       <th>  R-squared:         </th>  <td>   1.000</td> \n",
       "</tr>\n",
       "<tr>\n",
       "  <th>Model:</th>                   <td>OLS</td>       <th>  Adj. R-squared:    </th>  <td>   1.000</td> \n",
       "</tr>\n",
       "<tr>\n",
       "  <th>Method:</th>             <td>Least Squares</td>  <th>  F-statistic:       </th>  <td>8.461e+30</td>\n",
       "</tr>\n",
       "<tr>\n",
       "  <th>Date:</th>             <td>Sat, 16 Jan 2021</td> <th>  Prob (F-statistic):</th>   <td>  0.00</td>  \n",
       "</tr>\n",
       "<tr>\n",
       "  <th>Time:</th>                 <td>09:30:16</td>     <th>  Log-Likelihood:    </th>  <td>  15277.</td> \n",
       "</tr>\n",
       "<tr>\n",
       "  <th>No. Observations:</th>      <td>   506</td>      <th>  AIC:               </th> <td>-3.052e+04</td>\n",
       "</tr>\n",
       "<tr>\n",
       "  <th>Df Residuals:</th>          <td>   491</td>      <th>  BIC:               </th> <td>-3.046e+04</td>\n",
       "</tr>\n",
       "<tr>\n",
       "  <th>Df Model:</th>              <td>    14</td>      <th>                     </th>      <td> </td>    \n",
       "</tr>\n",
       "<tr>\n",
       "  <th>Covariance Type:</th>      <td>nonrobust</td>    <th>                     </th>      <td> </td>    \n",
       "</tr>\n",
       "</table>\n",
       "<table class=\"simpletable\">\n",
       "<tr>\n",
       "     <td></td>        <th>coef</th>     <th>std err</th>      <th>t</th>      <th>P>|t|</th>  <th>[0.025</th>    <th>0.975]</th>  \n",
       "</tr>\n",
       "<tr>\n",
       "  <th>const</th>   <td>-5.973e-14</td> <td> 2.15e-14</td> <td>   -2.784</td> <td> 0.006</td> <td>-1.02e-13</td> <td>-1.76e-14</td>\n",
       "</tr>\n",
       "<tr>\n",
       "  <th>CRIM</th>    <td> 9.606e-17</td> <td> 1.33e-16</td> <td>    0.722</td> <td> 0.470</td> <td>-1.65e-16</td> <td> 3.57e-16</td>\n",
       "</tr>\n",
       "<tr>\n",
       "  <th>ZN</th>      <td>  1.11e-16</td> <td> 5.56e-17</td> <td>    1.998</td> <td> 0.046</td> <td> 1.84e-18</td> <td>  2.2e-16</td>\n",
       "</tr>\n",
       "<tr>\n",
       "  <th>INDUS</th>   <td> 6.462e-17</td> <td> 2.46e-16</td> <td>    0.263</td> <td> 0.793</td> <td>-4.19e-16</td> <td> 5.48e-16</td>\n",
       "</tr>\n",
       "<tr>\n",
       "  <th>CHAS</th>    <td> 3.011e-15</td> <td> 3.48e-15</td> <td>    0.865</td> <td> 0.388</td> <td>-3.83e-15</td> <td> 9.85e-15</td>\n",
       "</tr>\n",
       "<tr>\n",
       "  <th>NOX</th>     <td> 2.298e-14</td> <td> 1.56e-14</td> <td>    1.471</td> <td> 0.142</td> <td>-7.71e-15</td> <td> 5.37e-14</td>\n",
       "</tr>\n",
       "<tr>\n",
       "  <th>RM</th>      <td>  3.15e-15</td> <td> 1.81e-15</td> <td>    1.742</td> <td> 0.082</td> <td>-4.03e-16</td> <td>  6.7e-15</td>\n",
       "</tr>\n",
       "<tr>\n",
       "  <th>AGE</th>     <td> 2.429e-17</td> <td> 5.29e-17</td> <td>    0.459</td> <td> 0.646</td> <td>-7.96e-17</td> <td> 1.28e-16</td>\n",
       "</tr>\n",
       "<tr>\n",
       "  <th>DIS</th>     <td>-3.331e-16</td> <td> 8.41e-16</td> <td>   -0.396</td> <td> 0.692</td> <td>-1.99e-15</td> <td> 1.32e-15</td>\n",
       "</tr>\n",
       "<tr>\n",
       "  <th>RAD</th>     <td> 2.533e-16</td> <td> 2.71e-16</td> <td>    0.934</td> <td> 0.351</td> <td> -2.8e-16</td> <td> 7.86e-16</td>\n",
       "</tr>\n",
       "<tr>\n",
       "  <th>TAX</th>     <td> 1.442e-17</td> <td> 1.52e-17</td> <td>    0.948</td> <td> 0.344</td> <td>-1.55e-17</td> <td> 4.43e-17</td>\n",
       "</tr>\n",
       "<tr>\n",
       "  <th>PTRATIO</th> <td>-6.523e-16</td> <td> 5.51e-16</td> <td>   -1.184</td> <td> 0.237</td> <td>-1.73e-15</td> <td>  4.3e-16</td>\n",
       "</tr>\n",
       "<tr>\n",
       "  <th>B</th>       <td> 1.946e-16</td> <td> 1.09e-17</td> <td>   17.889</td> <td> 0.000</td> <td> 1.73e-16</td> <td> 2.16e-16</td>\n",
       "</tr>\n",
       "<tr>\n",
       "  <th>LSTAT</th>   <td>-9.992e-16</td> <td> 2.24e-16</td> <td>   -4.462</td> <td> 0.000</td> <td>-1.44e-15</td> <td>-5.59e-16</td>\n",
       "</tr>\n",
       "<tr>\n",
       "  <th>MEDV</th>    <td>    1.0000</td> <td>  1.8e-16</td> <td> 5.54e+15</td> <td> 0.000</td> <td>    1.000</td> <td>    1.000</td>\n",
       "</tr>\n",
       "</table>\n",
       "<table class=\"simpletable\">\n",
       "<tr>\n",
       "  <th>Omnibus:</th>       <td>217.216</td> <th>  Durbin-Watson:     </th> <td>   0.576</td> \n",
       "</tr>\n",
       "<tr>\n",
       "  <th>Prob(Omnibus):</th> <td> 0.000</td>  <th>  Jarque-Bera (JB):  </th> <td> 779.205</td> \n",
       "</tr>\n",
       "<tr>\n",
       "  <th>Skew:</th>          <td> 2.026</td>  <th>  Prob(JB):          </th> <td>6.28e-170</td>\n",
       "</tr>\n",
       "<tr>\n",
       "  <th>Kurtosis:</th>      <td> 7.533</td>  <th>  Cond. No.          </th> <td>1.59e+04</td> \n",
       "</tr>\n",
       "</table><br/><br/>Warnings:<br/>[1] Standard Errors assume that the covariance matrix of the errors is correctly specified.<br/>[2] The condition number is large, 1.59e+04. This might indicate that there are<br/>strong multicollinearity or other numerical problems."
      ],
      "text/plain": [
       "<class 'statsmodels.iolib.summary.Summary'>\n",
       "\"\"\"\n",
       "                            OLS Regression Results                            \n",
       "==============================================================================\n",
       "Dep. Variable:                   MEDV   R-squared:                       1.000\n",
       "Model:                            OLS   Adj. R-squared:                  1.000\n",
       "Method:                 Least Squares   F-statistic:                 8.461e+30\n",
       "Date:                Sat, 16 Jan 2021   Prob (F-statistic):               0.00\n",
       "Time:                        09:30:16   Log-Likelihood:                 15277.\n",
       "No. Observations:                 506   AIC:                        -3.052e+04\n",
       "Df Residuals:                     491   BIC:                        -3.046e+04\n",
       "Df Model:                          14                                         \n",
       "Covariance Type:            nonrobust                                         \n",
       "==============================================================================\n",
       "                 coef    std err          t      P>|t|      [0.025      0.975]\n",
       "------------------------------------------------------------------------------\n",
       "const      -5.973e-14   2.15e-14     -2.784      0.006   -1.02e-13   -1.76e-14\n",
       "CRIM        9.606e-17   1.33e-16      0.722      0.470   -1.65e-16    3.57e-16\n",
       "ZN           1.11e-16   5.56e-17      1.998      0.046    1.84e-18     2.2e-16\n",
       "INDUS       6.462e-17   2.46e-16      0.263      0.793   -4.19e-16    5.48e-16\n",
       "CHAS        3.011e-15   3.48e-15      0.865      0.388   -3.83e-15    9.85e-15\n",
       "NOX         2.298e-14   1.56e-14      1.471      0.142   -7.71e-15    5.37e-14\n",
       "RM           3.15e-15   1.81e-15      1.742      0.082   -4.03e-16     6.7e-15\n",
       "AGE         2.429e-17   5.29e-17      0.459      0.646   -7.96e-17    1.28e-16\n",
       "DIS        -3.331e-16   8.41e-16     -0.396      0.692   -1.99e-15    1.32e-15\n",
       "RAD         2.533e-16   2.71e-16      0.934      0.351    -2.8e-16    7.86e-16\n",
       "TAX         1.442e-17   1.52e-17      0.948      0.344   -1.55e-17    4.43e-17\n",
       "PTRATIO    -6.523e-16   5.51e-16     -1.184      0.237   -1.73e-15     4.3e-16\n",
       "B           1.946e-16   1.09e-17     17.889      0.000    1.73e-16    2.16e-16\n",
       "LSTAT      -9.992e-16   2.24e-16     -4.462      0.000   -1.44e-15   -5.59e-16\n",
       "MEDV           1.0000    1.8e-16   5.54e+15      0.000       1.000       1.000\n",
       "==============================================================================\n",
       "Omnibus:                      217.216   Durbin-Watson:                   0.576\n",
       "Prob(Omnibus):                  0.000   Jarque-Bera (JB):              779.205\n",
       "Skew:                           2.026   Prob(JB):                    6.28e-170\n",
       "Kurtosis:                       7.533   Cond. No.                     1.59e+04\n",
       "==============================================================================\n",
       "\n",
       "Warnings:\n",
       "[1] Standard Errors assume that the covariance matrix of the errors is correctly specified.\n",
       "[2] The condition number is large, 1.59e+04. This might indicate that there are\n",
       "strong multicollinearity or other numerical problems.\n",
       "\"\"\""
      ]
     },
     "execution_count": 9,
     "metadata": {},
     "output_type": "execute_result"
    }
   ],
   "source": [
    "import statsmodels.api as sm\n",
    "\n",
    "x = sm.add_constant(df)\n",
    "y = df['MEDV']\n",
    "\n",
    "est = sm.OLS(y, x).fit()\n",
    "est.summary()"
   ]
  },
  {
   "cell_type": "markdown",
   "metadata": {},
   "source": [
    "# 3.2 Polynomial features\n",
    "\n",
    "Use polynomial features to improve your regression model in `3.1`. You can use squared and cubic features. Try to find a model that minimizes the `AIC` or `BIC` of your output table."
   ]
  },
  {
   "cell_type": "code",
   "execution_count": 10,
   "metadata": {},
   "outputs": [
    {
     "data": {
      "text/html": [
       "<table class=\"simpletable\">\n",
       "<caption>OLS Regression Results</caption>\n",
       "<tr>\n",
       "  <th>Dep. Variable:</th>          <td>MEDV</td>       <th>  R-squared:         </th> <td>   0.990</td>\n",
       "</tr>\n",
       "<tr>\n",
       "  <th>Model:</th>                   <td>OLS</td>       <th>  Adj. R-squared:    </th> <td>   0.989</td>\n",
       "</tr>\n",
       "<tr>\n",
       "  <th>Method:</th>             <td>Least Squares</td>  <th>  F-statistic:       </th> <td>   3347.</td>\n",
       "</tr>\n",
       "<tr>\n",
       "  <th>Date:</th>             <td>Sat, 16 Jan 2021</td> <th>  Prob (F-statistic):</th>  <td>  0.00</td> \n",
       "</tr>\n",
       "<tr>\n",
       "  <th>Time:</th>                 <td>09:30:16</td>     <th>  Log-Likelihood:    </th> <td>  471.77</td>\n",
       "</tr>\n",
       "<tr>\n",
       "  <th>No. Observations:</th>      <td>   506</td>      <th>  AIC:               </th> <td>  -913.5</td>\n",
       "</tr>\n",
       "<tr>\n",
       "  <th>Df Residuals:</th>          <td>   491</td>      <th>  BIC:               </th> <td>  -850.1</td>\n",
       "</tr>\n",
       "<tr>\n",
       "  <th>Df Model:</th>              <td>    14</td>      <th>                     </th>     <td> </td>   \n",
       "</tr>\n",
       "<tr>\n",
       "  <th>Covariance Type:</th>      <td>nonrobust</td>    <th>                     </th>     <td> </td>   \n",
       "</tr>\n",
       "</table>\n",
       "<table class=\"simpletable\">\n",
       "<tr>\n",
       "     <td></td>        <th>coef</th>     <th>std err</th>      <th>t</th>      <th>P>|t|</th>  <th>[0.025</th>    <th>0.975]</th>  \n",
       "</tr>\n",
       "<tr>\n",
       "  <th>const</th>   <td>    3.2469</td> <td>    0.109</td> <td>   29.720</td> <td> 0.000</td> <td>    3.032</td> <td>    3.462</td>\n",
       "</tr>\n",
       "<tr>\n",
       "  <th>CRIM</th>    <td>   -0.0066</td> <td>    0.001</td> <td>   -9.821</td> <td> 0.000</td> <td>   -0.008</td> <td>   -0.005</td>\n",
       "</tr>\n",
       "<tr>\n",
       "  <th>ZN</th>      <td>   -0.0005</td> <td>    0.000</td> <td>   -1.786</td> <td> 0.075</td> <td>   -0.001</td> <td> 5.05e-05</td>\n",
       "</tr>\n",
       "<tr>\n",
       "  <th>INDUS</th>   <td>    0.0017</td> <td>    0.001</td> <td>    1.334</td> <td> 0.183</td> <td>   -0.001</td> <td>    0.004</td>\n",
       "</tr>\n",
       "<tr>\n",
       "  <th>CHAS</th>    <td>    0.0063</td> <td>    0.018</td> <td>    0.354</td> <td> 0.724</td> <td>   -0.029</td> <td>    0.041</td>\n",
       "</tr>\n",
       "<tr>\n",
       "  <th>NOX</th>     <td>   -0.1893</td> <td>    0.080</td> <td>   -2.381</td> <td> 0.018</td> <td>   -0.346</td> <td>   -0.033</td>\n",
       "</tr>\n",
       "<tr>\n",
       "  <th>RM</th>      <td>   -0.0477</td> <td>    0.009</td> <td>   -5.176</td> <td> 0.000</td> <td>   -0.066</td> <td>   -0.030</td>\n",
       "</tr>\n",
       "<tr>\n",
       "  <th>AGE</th>     <td> 6.468e-05</td> <td>    0.000</td> <td>    0.240</td> <td> 0.810</td> <td>   -0.000</td> <td>    0.001</td>\n",
       "</tr>\n",
       "<tr>\n",
       "  <th>DIS</th>     <td>    0.0019</td> <td>    0.004</td> <td>    0.438</td> <td> 0.662</td> <td>   -0.007</td> <td>    0.010</td>\n",
       "</tr>\n",
       "<tr>\n",
       "  <th>RAD</th>     <td>    0.0039</td> <td>    0.001</td> <td>    2.843</td> <td> 0.005</td> <td>    0.001</td> <td>    0.007</td>\n",
       "</tr>\n",
       "<tr>\n",
       "  <th>TAX</th>     <td>   -0.0002</td> <td> 7.75e-05</td> <td>   -2.834</td> <td> 0.005</td> <td>   -0.000</td> <td>-6.73e-05</td>\n",
       "</tr>\n",
       "<tr>\n",
       "  <th>PTRATIO</th> <td>   -0.0061</td> <td>    0.003</td> <td>   -2.167</td> <td> 0.031</td> <td>   -0.012</td> <td>   -0.001</td>\n",
       "</tr>\n",
       "<tr>\n",
       "  <th>B</th>       <td>    0.0001</td> <td> 5.54e-05</td> <td>    2.109</td> <td> 0.035</td> <td> 7.96e-06</td> <td>    0.000</td>\n",
       "</tr>\n",
       "<tr>\n",
       "  <th>LSTAT</th>   <td>   -0.0118</td> <td>    0.001</td> <td>  -10.372</td> <td> 0.000</td> <td>   -0.014</td> <td>   -0.010</td>\n",
       "</tr>\n",
       "<tr>\n",
       "  <th>MEDV</th>    <td>    0.0924</td> <td>    0.001</td> <td>  100.626</td> <td> 0.000</td> <td>    0.091</td> <td>    0.094</td>\n",
       "</tr>\n",
       "</table>\n",
       "<table class=\"simpletable\">\n",
       "<tr>\n",
       "  <th>Omnibus:</th>       <td>102.640</td> <th>  Durbin-Watson:     </th> <td>   1.115</td>\n",
       "</tr>\n",
       "<tr>\n",
       "  <th>Prob(Omnibus):</th> <td> 0.000</td>  <th>  Jarque-Bera (JB):  </th> <td> 347.250</td>\n",
       "</tr>\n",
       "<tr>\n",
       "  <th>Skew:</th>          <td>-0.913</td>  <th>  Prob(JB):          </th> <td>3.94e-76</td>\n",
       "</tr>\n",
       "<tr>\n",
       "  <th>Kurtosis:</th>      <td> 6.625</td>  <th>  Cond. No.          </th> <td>1.59e+04</td>\n",
       "</tr>\n",
       "</table><br/><br/>Warnings:<br/>[1] Standard Errors assume that the covariance matrix of the errors is correctly specified.<br/>[2] The condition number is large, 1.59e+04. This might indicate that there are<br/>strong multicollinearity or other numerical problems."
      ],
      "text/plain": [
       "<class 'statsmodels.iolib.summary.Summary'>\n",
       "\"\"\"\n",
       "                            OLS Regression Results                            \n",
       "==============================================================================\n",
       "Dep. Variable:                   MEDV   R-squared:                       0.990\n",
       "Model:                            OLS   Adj. R-squared:                  0.989\n",
       "Method:                 Least Squares   F-statistic:                     3347.\n",
       "Date:                Sat, 16 Jan 2021   Prob (F-statistic):               0.00\n",
       "Time:                        09:30:16   Log-Likelihood:                 471.77\n",
       "No. Observations:                 506   AIC:                            -913.5\n",
       "Df Residuals:                     491   BIC:                            -850.1\n",
       "Df Model:                          14                                         \n",
       "Covariance Type:            nonrobust                                         \n",
       "==============================================================================\n",
       "                 coef    std err          t      P>|t|      [0.025      0.975]\n",
       "------------------------------------------------------------------------------\n",
       "const          3.2469      0.109     29.720      0.000       3.032       3.462\n",
       "CRIM          -0.0066      0.001     -9.821      0.000      -0.008      -0.005\n",
       "ZN            -0.0005      0.000     -1.786      0.075      -0.001    5.05e-05\n",
       "INDUS          0.0017      0.001      1.334      0.183      -0.001       0.004\n",
       "CHAS           0.0063      0.018      0.354      0.724      -0.029       0.041\n",
       "NOX           -0.1893      0.080     -2.381      0.018      -0.346      -0.033\n",
       "RM            -0.0477      0.009     -5.176      0.000      -0.066      -0.030\n",
       "AGE         6.468e-05      0.000      0.240      0.810      -0.000       0.001\n",
       "DIS            0.0019      0.004      0.438      0.662      -0.007       0.010\n",
       "RAD            0.0039      0.001      2.843      0.005       0.001       0.007\n",
       "TAX           -0.0002   7.75e-05     -2.834      0.005      -0.000   -6.73e-05\n",
       "PTRATIO       -0.0061      0.003     -2.167      0.031      -0.012      -0.001\n",
       "B              0.0001   5.54e-05      2.109      0.035    7.96e-06       0.000\n",
       "LSTAT         -0.0118      0.001    -10.372      0.000      -0.014      -0.010\n",
       "MEDV           0.0924      0.001    100.626      0.000       0.091       0.094\n",
       "==============================================================================\n",
       "Omnibus:                      102.640   Durbin-Watson:                   1.115\n",
       "Prob(Omnibus):                  0.000   Jarque-Bera (JB):              347.250\n",
       "Skew:                          -0.913   Prob(JB):                     3.94e-76\n",
       "Kurtosis:                       6.625   Cond. No.                     1.59e+04\n",
       "==============================================================================\n",
       "\n",
       "Warnings:\n",
       "[1] Standard Errors assume that the covariance matrix of the errors is correctly specified.\n",
       "[2] The condition number is large, 1.59e+04. This might indicate that there are\n",
       "strong multicollinearity or other numerical problems.\n",
       "\"\"\""
      ]
     },
     "execution_count": 10,
     "metadata": {},
     "output_type": "execute_result"
    }
   ],
   "source": [
    "x = sm.add_constant(df)\n",
    "y = df['MEDV']\n",
    "\n",
    "y = np.sqrt(np.abs(y))\n",
    "\n",
    "est = sm.OLS(y, x).fit()\n",
    "est.summary()"
   ]
  },
  {
   "cell_type": "markdown",
   "metadata": {},
   "source": [
    "# 3.3 Feature plotting\n",
    "\n",
    "Now that you have a better model, make a regression figure plot for the important feature. The regression plot should be like the ones made at the end of part 3 of this lecture (scatterplot + regression line). It should have the following:\n",
    "\n",
    "- Have the `x` axis be the values from one of your important features. The values should range from the `[min, max]` of the observed values in the dataset.\n",
    "\n",
    "- The y axis on each chart is the target value (house price)\n",
    "\n",
    "- You should have a scatter plot of the datapoints for the feature + the regression line of predicted values on each\n",
    "\n",
    "- If you used non-linearities (squared and/or cube input) the regression curve should be nonlinear as well\n",
    "\n",
    "- When plotting values for a single variable, you can set all the other values to their `mean` or `median` when you put them in your model's prediction"
   ]
  },
  {
   "cell_type": "code",
   "execution_count": 13,
   "metadata": {},
   "outputs": [
    {
     "data": {
      "image/png": "[encoded data removed]",
      "text/plain": [
       "<Figure size 432x288 with 1 Axes>"
      ]
     },
     "metadata": {
      "needs_background": "light"
     },
     "output_type": "display_data"
    }
   ],
   "source": [
    "x = np.asarray(df['LSTAT'])\n",
    "x = sm.add_constant(x)\n",
    "x = np.concatenate([x, np.square(x[:,1])[:, np.newaxis]], axis=1)\n",
    "\n",
    "est = sm.OLS(y, x).fit()\n",
    "xfit = sm.add_constant(np.linspace(min(x[:,1]), max(x[:,1]), 1000))\n",
    "xfit = np.concatenate([xfit, np.square(xfit[:,1])[:, np.newaxis]], axis=1)\n",
    "yfit = est.predict(xfit[:, np.newaxis])\n",
    "fig, ax = plt.subplots()\n",
    "ax.scatter(x[:,1], y)\n",
    "ax.plot(xfit[:,1], yfit, color=\"red\")\n",
    "plt.show()"
   ]
  },
  {
   "cell_type": "markdown",
   "metadata": {},
   "source": [
    "# 3.4 Multi-feature plotting\n",
    "\n",
    "Make a single matplotlib `figure` object with the same chart as in **3.3** but with 4 charts instead for your 4 most important features. \n",
    "\n",
    "Do not copy-paste code for each feature you visualize in the plot. Extract your code into a function so you can just have something like\n",
    "\n",
    "```python\n",
    "fix, ax1, ax2, ax3, ax4 = plt.subplots((2,2))\n",
    "reg_plot_on_ax(feature_1, ax1)\n",
    "reg_plot_on_ax(feature_2, ax2)\n",
    "reg_plot_on_ax(feature_3, ax3)\n",
    "reg_plot_on_ax(feature_4, ax4)\n",
    "```"
   ]
  },
  {
   "cell_type": "code",
   "execution_count": 14,
   "metadata": {
    "scrolled": false
   },
   "outputs": [
    {
     "data": {
      "image/png": "[encoded data removed]",
      "text/plain": [
       "<Figure size 432x288 with 4 Axes>"
      ]
     },
     "metadata": {
      "needs_background": "light"
     },
     "output_type": "display_data"
    }
   ],
   "source": [
    "fig, ((ax1, ax2), (ax3, ax4)) = plt.subplots(2,2)\n",
    "\n",
    "\n",
    "def reg_plot_on_ax(feature, ax):\n",
    "    x = feature\n",
    "    x = sm.add_constant(x)\n",
    "    x = np.concatenate([x, np.square(x[:,1])[:, np.newaxis]], axis=1)\n",
    "    y = np.sqrt(np.abs(df['MEDV']))\n",
    "\n",
    "    est = sm.OLS(y, x).fit()\n",
    "    xfit = sm.add_constant(np.linspace(min(x[:,1]), max(x[:,1]), 1000))\n",
    "    xfit = np.concatenate([xfit, np.square(xfit[:,1])[:, np.newaxis]], axis=1)\n",
    "    yfit = est.predict(xfit[:, np.newaxis])\n",
    "    ax.scatter(x[:,1], y)\n",
    "    ax.plot(xfit[:,1], yfit, color=\"red\")\n",
    "    \n",
    "feature_1 = np.asarray(df['LSTAT'])\n",
    "feature_2 = np.asarray(df['CRIM'])\n",
    "feature_3 = np.asarray(df['TAX'])\n",
    "feature_4 = np.asarray(df['ZN'])\n",
    "\n",
    "reg_plot_on_ax(feature_1, ax1)\n",
    "reg_plot_on_ax(feature_2, ax2)\n",
    "reg_plot_on_ax(feature_3, ax3)\n",
    "reg_plot_on_ax(feature_4, ax4)"
   ]
  },
  {
   "cell_type": "code",
   "execution_count": null,
   "metadata": {},
   "outputs": [],
   "source": []
  }
 ],
 "metadata": {
  "file_extension": ".py",
  "kernelspec": {
   "display_name": "Python 3",
   "language": "python",
   "name": "python3"
  },
  "language_info": {
   "codemirror_mode": {
    "name": "ipython",
    "version": 3
   },
   "file_extension": ".py",
   "mimetype": "text/x-python",
   "name": "python",
   "nbconvert_exporter": "python",
   "pygments_lexer": "ipython3",
   "version": "3.8.3"
  },
  "mimetype": "text/x-python",
  "name": "python",
  "npconvert_exporter": "python",
  "pygments_lexer": "ipython3",
  "version": 3
 },
 "nbformat": 4,
 "nbformat_minor": 2
}
